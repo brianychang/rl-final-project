{
 "cells": [
  {
   "cell_type": "code",
   "execution_count": null,
   "metadata": {},
   "outputs": [],
   "source": [
    "# extract per episode rewards\n",
    "rewards = []\n",
    "ewmas = []\n",
    "f = open(\"run1.out\", \"r\")\n",
    "for line in f:\n",
    "  if line.startswith(\"Reward: \"):\n",
    "      reward = float(line.split(',')[0].split(':')[1].replace(' ', ''))\n",
    "      ewma = float(line.split(':')[2].replace(' ', ''))\n",
    "      rewards.append(reward)\n",
    "      ewmas.append(ewma)\n"
   ]
  },
  {
   "cell_type": "code",
   "execution_count": null,
   "metadata": {},
   "outputs": [],
   "source": [
    "import matplotlib.pyplot as plt\n",
    "plt.plot(ewmas)\n",
    "plt.xlabel(\"episode\")\n",
    "plt.ylabel(\"mean episode reward\")\n",
    "# plt.ylim([0, 2000])"
   ]
  }
 ],
 "metadata": {
  "interpreter": {
   "hash": "31f2aee4e71d21fbe5cf8b01ff0e069b9275f58929596ceb00d14d90e3e16cd6"
  },
  "kernelspec": {
   "display_name": "Python 3.6.9 64-bit",
   "language": "python",
   "name": "python3"
  },
  "language_info": {
   "name": "python",
   "version": "3.6.9"
  },
  "orig_nbformat": 4
 },
 "nbformat": 4,
 "nbformat_minor": 2
}
